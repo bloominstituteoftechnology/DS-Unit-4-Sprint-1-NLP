{
 "cells": [
  {
   "cell_type": "markdown",
   "metadata": {
    "id": "BlwQRqffGEqb",
    "toc-hr-collapsed": false
   },
   "source": [
    "\n",
    "*Unit 4, Sprint 1, Module 1*\n",
    "\n",
    "---\n",
    "<h1 id=\"moduleTitle\"> Natural Language Processing Introduction (Prepare)</h1>\n",
    "\n",
    "\"Natural\" meaning - not computer languages but spoken/written human languages. The hard thing about NLP is that human languages are far less structured or consistent than computer languages. This is perhaps the largest source of difficulty when trying to get computers to \"understand\" human languages. How do you get a machine to understand sarcasm, and irony, and synonyms, connotation, denotation, nuance, and tone of voice --all without it having lived a lifetime of experience for context? If you think about it, our human brains have been exposed to quite a lot of training data to help us interpret languages, and even then we misunderstand each other pretty frequently.\n",
    "    \n",
    "\n",
    "<h2 id='moduleObjectives'>Learning Objectives</h2>\n",
    "\n",
    "By the end of end of this module, a student should be able to:\n",
    "* <a href=\"#p1\">Objective 1</a>: Tokenize text\n",
    "* <a href=\"#p1\">Objective 2</a>: Remove stop words from text\n",
    "* <a href=\"#p3\">Objective 3</a>: Perform stemming and lemmatization on tokens\n",
    "\n",
    "## Conda Environments (OMIT)\n",
    "\n",
    "You will be completing each module this sprint on your machine. We will be using conda environments to manage the packages and their dependencies for this sprint's content. In a classroom setting, instructors typically abstract away environment for you. However, environment management is an important professional data science skill. We showed you how to manage environments using pipvirtual env during Unit 3, but in this sprint, we will introduce an environment management tool common in the data science community:\n",
    "\n",
    "> __conda__: Package, dependency and environment management for any language—Python, R, Ruby, Lua, Scala, Java, JavaScript, C/ C++, FORTRAN, and more.\n",
    "\n",
    "The easiest way to install conda on your machine is via the [Anaconda Distribution](https://www.anaconda.com/distribution/) of Python & R. Once you have conda installed, read [\"A Guide to Conda Environments\"](https://towardsdatascience.com/a-guide-to-conda-environments-bc6180fc533). This article will provide an introduce into some of the conda basics. If you need some additional help getting started, the official [\"Setting started with conda\"](https://conda.io/projects/conda/en/latest/user-guide/getting-started.html) guide will point you in the right direction.\n",
    "\n",
    ":snake:\n",
    "\n",
    "To get the sprint environment setup:\n",
    "\n",
    "1. Open your command line tool (Terminal for MacOS, Anaconda Prompt for Windows)\n",
    "2. Navigate to the folder with this sprint's content. There should be a `requirements.txt`\n",
    "3. Run `conda create -n U4-S1-NLP python==3.7` => You can also rename the environment if you would like. Once the command completes, your conda environment should be ready.\n",
    "4. Now, we are going to add in the require python packages for this sprint. You will need to 'activate' the conda environment: `source activate U4-S1-NLP` on Terminal or `conda activate U4-S1-NLP` on Anaconda Prompt. Once your environment is activate, run `pip install -r requirements.txt` which will install the required packages into your environment.\n",
    "5. We are going to also add an Ipython Kernel reference to your conda environment, so we can use it from JupyterLab.\n",
    "6. Next run `python -m ipykernel install --user --name U4-S1-NLP --display-name \"U4-S1-NLP (Python3)\"` => This will add a json object to an ipython file, so JupterLab will know that it can use this isolated instance of Python. :)\n",
    "7. Last step, we need to install the models for Spacy. Run these commands `python -m spacy download en_core_web_md` and `python -m spacy download en_core_web_lg`\n",
    "8. Deactivate your conda environment and launch JupyterLab. You should know see \"U4-S1-NLP (Python3)\" in the list of available kernels on launch screen."
   ]
  },
  {
   "cell_type": "markdown",
   "metadata": {
    "id": "sHZ4U1lF-M-c"
   },
   "source": [
    "# 0. Colab notebook setup\n",
    "Start running the notebook here."
   ]
  },
  {
   "cell_type": "markdown",
   "metadata": {
    "id": "VH_AoWHJ7NGQ"
   },
   "source": [
    "## 0.1 Download the required spacy module that we'll use later\n",
    "*Note -- you need to restart the runtime right after running this cell!*"
   ]
  },
  {
   "cell_type": "code",
   "execution_count": null,
   "metadata": {
    "collapsed": true,
    "id": "JF7hVeqIooWq",
    "jupyter": {
     "outputs_hidden": true
    }
   },
   "outputs": [],
   "source": [
    "%%time\n",
    "# You'll use en_core_web_sm for the sprint challenge due memory constraints on Codegrader\n",
    "#!python -m spacy download en_core_web_sm\n",
    "\n",
    "# Locally (or on colab) let's use en_core_web_lg\n",
    "!python -m spacy download en_core_web_md # Can do lg, takes awhile\n",
    "# Also on Colab, need to restart runtime after this step!\n",
    "#      or else Colab won't find spacy"
   ]
  },
  {
   "cell_type": "markdown",
   "metadata": {
    "id": "qthwLIBYVlYz"
   },
   "source": [
    "## 0.2 Restart the runtime!\n",
    "Click on \"Runtime\" in the menu bar, and select \"Restart runtime\" from the dropdown menu."
   ]
  },
  {
   "cell_type": "markdown",
   "metadata": {
    "id": "PvLHLWZQWAFx"
   },
   "source": [
    "## 0.3 Install dependencies"
   ]
  },
  {
   "cell_type": "code",
   "execution_count": null,
   "metadata": {
    "id": "M9ujLvkrooWo"
   },
   "outputs": [],
   "source": [
    "# Dependencies for the week (instead of conda)\n",
    "# Run if you're using colab, otherwise you should have a local copy of the data\n",
    "!wget https://raw.githubusercontent.com/LambdaSchool/DS-Unit-4-Sprint-1-NLP/main/requirements.txt\n",
    "!pip install -r requirements.txt"
   ]
  },
  {
   "cell_type": "markdown",
   "metadata": {
    "id": "VGa7EsgFOsJj"
   },
   "source": [
    "##0.4 Import libraries and load packages"
   ]
  },
  {
   "cell_type": "code",
   "execution_count": null,
   "metadata": {
    "id": "8Ap1zL81GErA"
   },
   "outputs": [],
   "source": [
    "%%time\n",
    "\"\"\"\n",
    "Import Statements\n",
    "\"\"\"\n",
    "\n",
    "# Base\n",
    "from collections import Counter\n",
    "import re\n",
    "import pandas as pd\n",
    "\n",
    "# Plotting\n",
    "import squarify\n",
    "import matplotlib.pyplot as plt\n",
    "import seaborn as sns\n",
    "sns.set()\n",
    "\n",
    "# NLP Libraries\n",
    "import spacy\n",
    "from spacy.tokenizer import Tokenizer\n",
    "from nltk.stem import PorterStemmer"
   ]
  },
  {
   "cell_type": "markdown",
   "metadata": {
    "id": "tqPsjNAs8VDl"
   },
   "source": [
    "## 0.5 Get the Amazon reviews data and `unzip` it\n",
    "We can access the Amazon reviews data in this Colab notebook by cloning the `Unit-4-Sprint-1` repo!"
   ]
  },
  {
   "cell_type": "code",
   "execution_count": null,
   "metadata": {
    "id": "_v6sJTH569Oa"
   },
   "outputs": [],
   "source": [
    "# clone the Unit-4-Sprint-1 repo\n",
    "!git clone https://github.com/LambdaSchool/DS-Unit-4-Sprint-1-NLP.git\n",
    "# Find the path to the reviews data zip file, using the file icon on the left sidebar\n",
    "!unzip /content/DS-Unit-4-Sprint-1-NLP/module1-text-data/data/Datafiniti_Amazon_Consumer_Reviews_of_Amazon_Products_May19.csv.zip"
   ]
  },
  {
   "cell_type": "code",
   "execution_count": null,
   "metadata": {
    "id": "kQTSYuADiNQw"
   },
   "outputs": [],
   "source": [
    "df = pd.read_csv('Datafiniti_Amazon_Consumer_Reviews_of_Amazon_Products_May19.csv')\n",
    "print(df.shape)\n",
    "df.head()"
   ]
  },
  {
   "cell_type": "code",
   "execution_count": null,
   "metadata": {
    "id": "IEQ5iITjc8GK"
   },
   "outputs": [],
   "source": [
    "df['reviews.text'][100]"
   ]
  },
  {
   "cell_type": "code",
   "execution_count": null,
   "metadata": {
    "id": "inO9OM3r3ZUp"
   },
   "outputs": [],
   "source": [
    "df['primaryCategories'][100]"
   ]
  },
  {
   "cell_type": "code",
   "execution_count": null,
   "metadata": {
    "id": "xmr2o4kX9Er4"
   },
   "outputs": [],
   "source": [
    "type(df['reviews.text'][100])"
   ]
  },
  {
   "cell_type": "code",
   "execution_count": null,
   "metadata": {
    "id": "2fHmoSGRF4Xg"
   },
   "outputs": [],
   "source": [
    "df.info()"
   ]
  },
  {
   "cell_type": "markdown",
   "metadata": {
    "id": "I0ssyXeiGEqc",
    "toc-hr-collapsed": false
   },
   "source": [
    "# 1. Tokenization and Text Preprocessing, Part 1\n",
    "<a id=\"p1\"></a>"
   ]
  },
  {
   "cell_type": "markdown",
   "metadata": {
    "id": "sd6cxaNTGEqc",
    "toc-hr-collapsed": true
   },
   "source": [
    "## Overview\n",
    "\n",
    "> **token**: an instance of a sequence of characters in some particular document that are grouped together as a useful semantic unit for processing\n",
    "\n",
    "> [_*Introduction to Information Retrival*_](https://nlp.stanford.edu/IR-book/)\n",
    "\n",
    "\n",
    "### The attributes of good tokens\n",
    "\n",
    "* Should be stored in an iterable data structure\n",
    "  - Allows analysis of the \"semantic unit\"\n",
    "* Should be all the same case\n",
    "  - Reduces the complexity of our data\n",
    "* Should be free of non-alphanumeric characters (ie punctuation, whitespace)\n",
    "  - Removes information that is probably not relevant to the analysis"
   ]
  },
  {
   "cell_type": "markdown",
   "metadata": {
    "id": "dK-EKGVNGEqd"
   },
   "source": [
    "Let's pretend we are trying analyze the random sequence here. Question: what is the most common character in this sequence?"
   ]
  },
  {
   "cell_type": "code",
   "execution_count": null,
   "metadata": {
    "id": "NODbGehhGEqe"
   },
   "outputs": [],
   "source": [
    "random_seq = \"AABAAFBBBBCGCDDEEEFCFFDFFAFFZFGGGGHEAFJAAZBBFCZ\""
   ]
  },
  {
   "cell_type": "markdown",
   "metadata": {
    "id": "Uj0FHiJEGEqh"
   },
   "source": [
    "A useful unit of analysis for us is going to be a letter or character"
   ]
  },
  {
   "cell_type": "code",
   "execution_count": null,
   "metadata": {
    "id": "OFWePC6XGEqh"
   },
   "outputs": [],
   "source": [
    "tokens = list(random_seq)\n",
    "print(tokens)"
   ]
  },
  {
   "cell_type": "markdown",
   "metadata": {
    "id": "8tbp-hyDGEql"
   },
   "source": [
    "Our tokens are already \"good\": in an iterable datastructure, all the same case, and free of noise characters (punctuation, whitespace), so we can jump straight into analysis."
   ]
  },
  {
   "cell_type": "code",
   "execution_count": null,
   "metadata": {
    "id": "mFQcACruGEql"
   },
   "outputs": [],
   "source": [
    "plt.figure(figsize=(7,7))\n",
    "sns.countplot(tokens);"
   ]
  },
  {
   "cell_type": "markdown",
   "metadata": {
    "id": "o3TbbxfHGEqo"
   },
   "source": [
    "The most common character in our sequence is  \"F\". We can't just glance at the the sequence to know which character is the most common. We (humans) struggle to subitize complex data (like random text sequences).\n",
    "\n",
    "> __Subitize__ is the ability to tell the number of objects in a set, quickly, without counting.  \n",
    "\n",
    "We need to chunk the data into countable pieces \"tokens\" for us to analyze them. This inability subitize text data is the motivation for our discussion today."
   ]
  },
  {
   "cell_type": "markdown",
   "metadata": {
    "id": "UMa8NJjlGEqo",
    "toc-hr-collapsed": true
   },
   "source": [
    "### 1.1 Tokenizing with Pure Python"
   ]
  },
  {
   "cell_type": "code",
   "execution_count": null,
   "metadata": {
    "id": "im96HX4XGEqp"
   },
   "outputs": [],
   "source": [
    "sample = \"Friends, Romans, countrymen, lend me your ears;\""
   ]
  },
  {
   "cell_type": "code",
   "execution_count": null,
   "metadata": {
    "id": "OiXCqqU-Ku2A"
   },
   "outputs": [],
   "source": [
    "sample2 = sample +'..., 911'\n",
    "print(sample2)"
   ]
  },
  {
   "cell_type": "markdown",
   "metadata": {
    "id": "ff51vp2U4O7k"
   },
   "source": [
    "Use `regex` library"
   ]
  },
  {
   "cell_type": "code",
   "execution_count": null,
   "metadata": {
    "id": "bPvrDFUM4Je1"
   },
   "outputs": [],
   "source": [
    "import re\n",
    "re.sub('[^a-zA-Z 0-9]','', sample2)"
   ]
  },
  {
   "cell_type": "markdown",
   "metadata": {
    "id": "Q8ACUekrGEqr"
   },
   "source": [
    "##### Iterable Tokens\n",
    "\n",
    "A string object in Python is already iterable. However, the item you iterate over is a character not a token:\n",
    "\n",
    "```\n",
    "from time import sleep\n",
    "for num, character in enumerate(sample):\n",
    "    sleep(.5)\n",
    "    print(f\"Char {num} - {character}\", end=\"\\r\")\n",
    "```\n",
    "\n",
    "If we instead care about the words in our sample (our semantic unit), we can use the string method `.split()` to separate the whitespace and create iterable units. :)"
   ]
  },
  {
   "cell_type": "code",
   "execution_count": null,
   "metadata": {
    "id": "Q5Vh69V5GEqr"
   },
   "outputs": [],
   "source": [
    "sample.split()"
   ]
  },
  {
   "cell_type": "code",
   "execution_count": null,
   "metadata": {
    "id": "9WCEoYU1Gg9m"
   },
   "outputs": [],
   "source": [
    "sample.split(',')"
   ]
  },
  {
   "cell_type": "markdown",
   "metadata": {
    "id": "3h3fMFY0GEqu"
   },
   "source": [
    "###1.2 Case Normalization\n",
    "A common data cleaning data cleaning task with token is to standardize or normalize the case. Normalizing case reduces the chance that you have duplicate records for things which have practically the same semantic meaning. You can use either the `.lower()` or `.upper()` string methods to normalize case.\n",
    "\n",
    "Consider the following example:"
   ]
  },
  {
   "cell_type": "code",
   "execution_count": null,
   "metadata": {
    "id": "ohejQb1d-1Je"
   },
   "outputs": [],
   "source": [
    "# Get the count of how many times each unique brand occurs\n",
    "# Notice anything odd here?\n",
    "print(df['brand'].unique())\n",
    "print(df['brand'].value_counts())"
   ]
  },
  {
   "cell_type": "markdown",
   "metadata": {
    "id": "F0CCsjw_cd2M"
   },
   "source": [
    "#### Let's use `pandas` to fix the problem!\n",
    "We `apply` the `.lower()` method"
   ]
  },
  {
   "cell_type": "code",
   "execution_count": null,
   "metadata": {
    "id": "vbsvd0VvGEqx",
    "nbgrader": {
     "grade": false,
     "grade_id": "cell-a170e7dda094d54e",
     "locked": false,
     "schema_version": 3,
     "solution": true,
     "task": false
    }
   },
   "outputs": [],
   "source": [
    "### BEGIN SOLUTION\n",
    "\n",
    "### END SOLUTION\n",
    "\n",
    "# Much cleaner\n",
    "df['brand'].value_counts()"
   ]
  },
  {
   "cell_type": "markdown",
   "metadata": {
    "id": "-azmlchGb2Xm"
   },
   "source": [
    "###1.4 Using `regex` to remove punctuation\n",
    "`regex` is a powerful mini- language that allows you to search and match patterns in strings. If you haven't used it before, no worries, now is your chance to learn a bit about it! As a software engineer you will find yourself using `regex` surprisingly often!\n",
    "\n",
    "\n",
    "Read this excellent article [Easiest way to remember Regular Expressions (Regex)](https://towardsdatascience.com/easiest-way-to-remember-regular-expressions-regex-178ba518bebd) as a quick introduction! <br>\n",
    "\n",
    "Also useful is the [regular expressions cheat sheet](https://www.dataquest.io/blog/regex-cheatsheet/)) from dataquest.io\n",
    "\n",
    "Finally [regex101](https://regex101.com/) offers an interactive `regex` checker, where you can test whether your `regex` code does what you intended it to do!"
   ]
  },
  {
   "cell_type": "markdown",
   "metadata": {
    "id": "YkhFYsNXGEq1"
   },
   "source": [
    "#### First `regex` example\n",
    "Suppose we want to keep only alphanumeric characters and spaces.\n",
    "Everything else is probably noise: just punctuation, and other special characters. This one is little bit more complicated than our previous example. Here we will have to import the `regex` package `re` (regular expressions). <br>\n",
    "\n",
    "The `regex` expression pattern for this task is `'[^a-zA-Z 0-9]'` which matches character which are **not** in the set {lower case letters, upper case letters, spaces, and numbers}"
   ]
  },
  {
   "cell_type": "code",
   "execution_count": null,
   "metadata": {
    "id": "YRY7kKSAGEq4"
   },
   "outputs": [],
   "source": [
    "sample = sample + '..., 911'\n",
    "print(sample)"
   ]
  },
  {
   "cell_type": "markdown",
   "metadata": {
    "id": "rgwRE0zMKZQj"
   },
   "source": [
    "We'll use the `re.sub()` method to replace the characters matching that pattern with `''`, an empty string, effectively getting rid of them."
   ]
  },
  {
   "cell_type": "code",
   "execution_count": null,
   "metadata": {
    "id": "0iBUGUpFooW0"
   },
   "outputs": [],
   "source": [
    "# replace (sub) \"everything that is NOT lower-case or upper-case or numerical or space\" with empty string \"\"\n",
    "import re\n",
    "sample = re.sub('[^a-zA-Z 0-9]', '', sample)"
   ]
  },
  {
   "cell_type": "code",
   "execution_count": null,
   "metadata": {
    "id": "-gVwa_OwTsrH"
   },
   "outputs": [],
   "source": [
    "sample"
   ]
  },
  {
   "cell_type": "markdown",
   "metadata": {
    "id": "RSg_9zAXK7l1"
   },
   "source": [
    "Next we can use `python`'s  `lower()` and `split()` methods <br>\n",
    "to convert upper case characters to lower case, then split the string on whitespace, producing a list of tokens."
   ]
  },
  {
   "cell_type": "code",
   "execution_count": null,
   "metadata": {
    "id": "KwPG1EWSKZeK"
   },
   "outputs": [],
   "source": [
    "#split into words and lower case\n",
    "sample.lower().split()"
   ]
  },
  {
   "cell_type": "markdown",
   "metadata": {
    "id": "fKqg9zeOLfZf"
   },
   "source": [
    "Congratulations, you have just learned all the steps to clean and tokenize a text string!"
   ]
  },
  {
   "cell_type": "markdown",
   "metadata": {
    "id": "obloLh7rGEq7"
   },
   "source": [
    "### 1.5 Five Minute Challenge: build your own tokenizer\n",
    "- Complete the function `tokenize` below\n",
    "- Combine the methods which we discussed above to clean and tokenize a text string.\n",
    "- Your function should remove punctuation and special characters, split the text string into words, and lower case all capital letters\n",
    "- You can put the methods in any order you want"
   ]
  },
  {
   "cell_type": "code",
   "execution_count": null,
   "metadata": {
    "id": "0zgbOnoIGEq7",
    "nbgrader": {
     "grade": false,
     "grade_id": "cell-42630c1891924a1a",
     "locked": false,
     "schema_version": 3,
     "solution": true,
     "task": false
    }
   },
   "outputs": [],
   "source": [
    "def tokenize(text):\n",
    "    \"\"\"Parses a string into a list of semantic units (words)\n",
    "\n",
    "    Args:\n",
    "        text (str): The string that the function will tokenize.\n",
    "\n",
    "    Returns:\n",
    "        list: tokens parsed out by the mechanics of your choice\n",
    "    \"\"\"\n",
    "\n",
    "    ### BEGIN SOLUTION\n",
    "\n",
    "    ### END SOLUTION\n",
    "    return tokens"
   ]
  },
  {
   "cell_type": "code",
   "execution_count": null,
   "metadata": {
    "id": "qWsYy-LqGEq9"
   },
   "outputs": [],
   "source": [
    "# this should be your output\n",
    "tokenize(sample)"
   ]
  },
  {
   "cell_type": "markdown",
   "metadata": {
    "id": "erSMd4diGEq_",
    "toc-hr-collapsed": true
   },
   "source": [
    "# 2. Tokenization and text preprocessing, part 2\n",
    "\n",
    "Our inability to analyze text data becomes quickly amplified in a business context. Consider the following:\n",
    "\n",
    "A business which sells widgets also collects customer reviews of those widgets. When the business first started out, they had a human read the reviews to look for patterns. Now, the business sells thousands of widgets a month. The human readers can't keep up with the pace of reviews to synthesize an accurate analysis. They need some science to help them analyze their data.\n",
    "\n",
    "Now, let's pretend that business is Amazon, and the widgets are Amazon products such as the Alexa, Echo, or other AmazonBasics products. Let's analyze their reviews with some counts. This dataset is available on [Kaggle](https://www.kaggle.com/datafiniti/consumer-reviews-of-amazon-products/)."
   ]
  },
  {
   "cell_type": "code",
   "execution_count": null,
   "metadata": {
    "id": "ydhFysF-GErC"
   },
   "outputs": [],
   "source": [
    "df.head(2)"
   ]
  },
  {
   "cell_type": "markdown",
   "metadata": {
    "id": "PXUB40TOjxkn"
   },
   "source": [
    "###  2.1 Counting word occurrences"
   ]
  },
  {
   "cell_type": "code",
   "execution_count": null,
   "metadata": {
    "id": "q--SeRsygBzO"
   },
   "outputs": [],
   "source": [
    "# Counting occurrences of words in the raw text\n",
    "df['reviews.text'].value_counts()[:10]"
   ]
  },
  {
   "cell_type": "code",
   "execution_count": null,
   "metadata": {
    "id": "TTZEyAsMfzgC"
   },
   "outputs": [],
   "source": [
    "# Counting fractional word occurrences (divide by total number of words)\n",
    "# Look at the first 10 reviews\n",
    "df['reviews.text'].value_counts(normalize=True)[:10]"
   ]
  },
  {
   "cell_type": "markdown",
   "metadata": {
    "id": "NWwDOZZ8j_JW"
   },
   "source": [
    "### 2.2 Use your tokenizer to tokenize the reviews"
   ]
  },
  {
   "cell_type": "code",
   "execution_count": null,
   "metadata": {
    "id": "Lkl_l_3KGErH",
    "nbgrader": {
     "grade": false,
     "grade_id": "cell-afe39f461a4852ac",
     "locked": false,
     "schema_version": 3,
     "solution": true,
     "task": false
    }
   },
   "outputs": [],
   "source": [
    "### BEGIN SOLUTION\n",
    "\n",
    "# tokenize reviews.text\n",
    "\n",
    "\n",
    "### END SOLUTION"
   ]
  },
  {
   "cell_type": "markdown",
   "metadata": {
    "id": "RZiSzhEs8bFN"
   },
   "source": [
    "Document is a text string"
   ]
  },
  {
   "cell_type": "code",
   "execution_count": null,
   "metadata": {
    "id": "3McQiFmk8LfQ"
   },
   "outputs": [],
   "source": [
    "df['reviews.text'].iloc[0]"
   ]
  },
  {
   "cell_type": "markdown",
   "metadata": {
    "id": "dCsLbZfJ8ikF"
   },
   "source": [
    "Tokenized document is a list of tokens"
   ]
  },
  {
   "cell_type": "code",
   "execution_count": null,
   "metadata": {
    "id": "XoSpJbrHVYXO"
   },
   "outputs": [],
   "source": [
    "df['tokens'].iloc[0]"
   ]
  },
  {
   "cell_type": "markdown",
   "metadata": {
    "id": "y-ti1ovWb7PF"
   },
   "source": [
    "Let's take a smaller subset of the data so that our demonstration codes will run faster."
   ]
  },
  {
   "cell_type": "code",
   "execution_count": null,
   "metadata": {
    "id": "KWfRWgx_hDIW"
   },
   "outputs": [],
   "source": [
    "# view count of primaryCategories\n",
    "df['primaryCategories'].value_counts()"
   ]
  },
  {
   "cell_type": "code",
   "execution_count": null,
   "metadata": {
    "id": "b9XyEJ-CPVpY"
   },
   "outputs": [],
   "source": [
    "# Take a subset of the df where the only primaryCategories is Electronics\n",
    "df = df[df['primaryCategories'] == 'Electronics'].copy()\n",
    "print(df.shape)\n",
    "df.head()"
   ]
  },
  {
   "cell_type": "code",
   "execution_count": null,
   "metadata": {
    "id": "w6g45K_tEO-i"
   },
   "outputs": [],
   "source": [
    "df['tokens'][:5]"
   ]
  },
  {
   "cell_type": "markdown",
   "metadata": {
    "id": "8hOBAw2yGErU"
   },
   "source": [
    "###2.3 Analyzing Tokens"
   ]
  },
  {
   "cell_type": "code",
   "execution_count": null,
   "metadata": {
    "id": "6jVvZAvJGErU",
    "nbgrader": {
     "grade": false,
     "grade_id": "cell-1df54ac52c426166",
     "locked": false,
     "schema_version": 3,
     "solution": true,
     "task": false
    }
   },
   "outputs": [],
   "source": [
    "# Object from Base Python\n",
    "from collections import Counter\n",
    "\n",
    "### BEGIN SOLUTION\n",
    "# The object `Counter` takes an iterable, but you can instantiate an empty one and update it.\n",
    "\n",
    "\n",
    "# Update it based on a split of each of our documents\n",
    "\n",
    "\n",
    "# Print out the 10 most common words\n",
    "\n",
    "\n",
    "### END SOLUTION"
   ]
  },
  {
   "cell_type": "code",
   "execution_count": null,
   "metadata": {
    "id": "f7Szp1f0_AKV"
   },
   "outputs": [],
   "source": [
    "type(word_counts)"
   ]
  },
  {
   "cell_type": "markdown",
   "metadata": {
    "id": "TiVHbw6xGErW"
   },
   "source": [
    "\n",
    "\n",
    "Below we have create a function `count()` which takes a corpus of tokenized documents <br>`df['tokens']` as its input and returns a dataframe of word counts and associated descriptive statistics.<br><br>\n",
    "\n",
    "To understand this `count()` function, let's use a \"top-down\" approach: <br>\n",
    "so first, we'll scroll down to and read \"Summary of the descriptive token statistics\",<br> then read the code cell below \"Make our count object\" and have a look at the dataframe that is produced.<br><br>\n",
    "Keeping the structure of that dataframe in mind will make it easier to see what the `count()` function is doing.<br>\n",
    "Let's go through the code below and understand it line by line:"
   ]
  },
  {
   "cell_type": "code",
   "execution_count": null,
   "metadata": {
    "id": "ypyH-_x1GErX"
   },
   "outputs": [],
   "source": [
    "def count(token_lists):\n",
    "    \"\"\"\n",
    "    Calculates some basic statistics about tokens in our corpus (i.e. corpus means collections text data)\n",
    "    \"\"\"\n",
    "    # stores the count of each token\n",
    "    word_counts = Counter()\n",
    "\n",
    "    # stores the number of docs that each token appears in\n",
    "    appears_in_docs = Counter()\n",
    "\n",
    "    total_docs = len(token_lists)\n",
    "\n",
    "    for token_list in token_lists:\n",
    "        # stores count of every appearance of a token\n",
    "        word_counts.update(token_list)\n",
    "\n",
    "        # use set() in order to not count duplicates, thereby count the num of docs that each token appears in\n",
    "        appears_in_docs.update(set(token_list))\n",
    "\n",
    "    # build word count dataframe\n",
    "    word_count_dict = zip(word_counts.keys(), word_counts.values())\n",
    "    wc = pd.DataFrame(word_count_dict, columns = ['word', 'count'])\n",
    "\n",
    "    # rank the the word counts\n",
    "    wc['rank'] = wc['count'].rank(method='first', ascending=False)\n",
    "    total = wc['count'].sum()\n",
    "\n",
    "    # calculate the percent total of each token\n",
    "    wc['fraction_of_total'] = wc['count'].apply(lambda token_count: token_count / total)\n",
    "\n",
    "    # calculate the cumulative percent total of word counts\n",
    "    wc = wc.sort_values(by='rank')\n",
    "    wc['cumulative_fraction_of_total'] = wc['fraction_of_total'].cumsum()\n",
    "\n",
    "    # create dataframe for document stats\n",
    "    t2 = zip(appears_in_docs.keys(), appears_in_docs.values())\n",
    "    ac = pd.DataFrame(t2, columns=['word', 'appears_in_docs'])\n",
    "\n",
    "    # merge word count stats with doc stats\n",
    "    wc = ac.merge(wc, on='word')\n",
    "\n",
    "    wc['appears_in_fraction_of_docs'] = wc['appears_in_docs'].apply(lambda x: x / total_docs)\n",
    "\n",
    "    return wc.sort_values(by='rank')"
   ]
  },
  {
   "cell_type": "markdown",
   "metadata": {
    "id": "bb9_MW_T__OJ"
   },
   "source": [
    "Note that we use `set(token_list)` to update the count in `appears_in_docs` <br>\n",
    "In `python`, `{}` denotes a `set`, which is a list of **unique** values.<br>\n",
    "Thus the Counter for a given word in `appears_in_docs` gets updated once each time that word is used in a document.<br>\n",
    "So the `appears_in_docs` Counter registers the total number of documents each word appears in."
   ]
  },
  {
   "cell_type": "code",
   "execution_count": null,
   "metadata": {
    "id": "OADxxZUlZyRk"
   },
   "outputs": [],
   "source": [
    "this_is_a_set = {1, 2, 2, 2, 3, 4, 5}\n",
    "print(type(this_is_a_set))\n",
    "print(this_is_a_set)"
   ]
  },
  {
   "cell_type": "markdown",
   "metadata": {
    "id": "6HzFcfdkNZv3"
   },
   "source": [
    "#### Summary of the descriptive token statistics\n",
    "\n",
    "`word` The specific token that is being analyzed\n",
    "\n",
    "`appears_in_docs` Number of documents that the word/token appears in\n",
    "\n",
    "`count` The total number of appearances of that token within the corpus\n",
    "\n",
    "`rank` Ranking of tokens by count\n",
    "\n",
    "`fraction_of_total` Fraction of the total tokens that this token makes up\n",
    "\n",
    "`cumulative_fraction_of_total` Sum of fractional total of ranked tokens, down to and including this token.\n",
    "\n",
    "`appears_in_fraction_of_docs` Fraction of documents that token appears in"
   ]
  },
  {
   "cell_type": "markdown",
   "metadata": {
    "id": "8QkyHlPUB88I"
   },
   "source": [
    "Make our `count` object"
   ]
  },
  {
   "cell_type": "code",
   "execution_count": null,
   "metadata": {
    "id": "GqqwygrUGErZ"
   },
   "outputs": [],
   "source": [
    "# Use the count function\n",
    "wc  = count(df['tokens'])\n",
    "print(wc.shape)\n",
    "wc.head()"
   ]
  },
  {
   "cell_type": "code",
   "execution_count": null,
   "metadata": {
    "id": "u9kI5BjnGErc"
   },
   "outputs": [],
   "source": [
    "# Cumulative Distribution Plot\n",
    "plt.figure(figsize=(7,7))\n",
    "sns.lineplot(x='rank', y='cumulative_fraction_of_total', data=wc);\n",
    "plt.grid()"
   ]
  },
  {
   "cell_type": "code",
   "execution_count": null,
   "metadata": {
    "id": "j5QpSetVYfAZ"
   },
   "outputs": [],
   "source": [
    "wc[wc['rank'] <= 250]['cumulative_fraction_of_total']"
   ]
  },
  {
   "cell_type": "code",
   "execution_count": null,
   "metadata": {
    "id": "GKpixh5DGEre"
   },
   "outputs": [],
   "source": [
    "wc[wc['rank'] <= 100]['cumulative_fraction_of_total']"
   ]
  },
  {
   "cell_type": "markdown",
   "metadata": {
    "id": "eemk9I8_QWs-"
   },
   "source": [
    "### `squarify` shows the most frequent words"
   ]
  },
  {
   "cell_type": "code",
   "execution_count": null,
   "metadata": {
    "id": "-yuCq8nuGErg"
   },
   "outputs": [],
   "source": [
    "import squarify\n",
    "import matplotlib.pyplot as plt\n",
    "\n",
    "wc_top20 = wc[wc['rank'] <= 20]\n",
    "\n",
    "plt.figure(figsize=(7,7))\n",
    "squarify.plot(sizes=wc_top20['fraction_of_total'], label=wc_top20['word'], alpha=.8 )\n",
    "plt.axis('off')\n",
    "plt.show()"
   ]
  },
  {
   "cell_type": "markdown",
   "metadata": {
    "id": "XIXSsYI_GEri"
   },
   "source": [
    "### 2.4 Processing Raw Text with Spacy\n",
    "\n",
    "Spacy's datamodel for documents is unique among NLP libraries. Instead of storing the documents components in various data structures, Spacy indexes components and simply stores the lookup information.\n",
    "\n",
    "This is often why Spacy is considered to be more production grade than a library like NLTK."
   ]
  },
  {
   "cell_type": "code",
   "execution_count": null,
   "metadata": {
    "id": "Y0l_8Q_-GEri"
   },
   "outputs": [],
   "source": [
    "import spacy\n",
    "nlp = spacy.load('en_core_web_md')"
   ]
  },
  {
   "cell_type": "code",
   "execution_count": null,
   "metadata": {
    "id": "4qlRt5SIGErk"
   },
   "outputs": [],
   "source": [
    "sample = \"\"\"\n",
    "Natural Language Processing Summary\n",
    "The field of study that focuses on the interactions between human language and computers is called Natural Language Processing, or NLP for short. It sits at the intersection of computer science, artificial intelligence, and computational linguistics (Wikipedia).\n",
    "\n",
    "“Natural Language Processing is a field that covers computer understanding and manipulation of human language, and it’s ripe with possibilities for news gathering,” Anthony Pesce said in Natural Language Processing in the kitchen. “You usually hear about it in the context of analyzing large pools of legislation or other document sets, attempting to discover patterns or root out corruption.”\n",
    "\"\"\""
   ]
  },
  {
   "cell_type": "code",
   "execution_count": null,
   "metadata": {
    "id": "rSgncInMcgP2"
   },
   "outputs": [],
   "source": [
    "sample"
   ]
  },
  {
   "cell_type": "code",
   "execution_count": null,
   "metadata": {
    "id": "FjA1TF9vGErl"
   },
   "outputs": [],
   "source": [
    "doc = nlp(sample)\n",
    "doc"
   ]
  },
  {
   "cell_type": "code",
   "execution_count": null,
   "metadata": {
    "id": "yeG3VSUzcq8H"
   },
   "outputs": [],
   "source": [
    "print(type(doc))\n",
    "dir(doc)"
   ]
  },
  {
   "cell_type": "markdown",
   "metadata": {
    "id": "UM6Kz0UJdyJQ"
   },
   "source": [
    "Let's create a tokenizer using `spacy`"
   ]
  },
  {
   "cell_type": "code",
   "execution_count": null,
   "metadata": {
    "id": "ZBa99HsYGErn",
    "nbgrader": {
     "grade": false,
     "grade_id": "cell-fc63dad59954bbff",
     "locked": false,
     "schema_version": 3,
     "solution": true,
     "task": false
    }
   },
   "outputs": [],
   "source": [
    "%%time\n",
    "# create a tokenizer using spacy\n",
    "\n",
    "### BEGIN SOLUTION\n",
    "\n",
    "\n",
    "\n",
    "# save tokens to df\n",
    "df['spacy_tokens'] = ...\n",
    "\n",
    "### END SOLUTION"
   ]
  },
  {
   "cell_type": "markdown",
   "metadata": {
    "id": "ptLebi17d-N_"
   },
   "source": [
    "Using `squarify` we can graphically display occurrence rates for the most common tokens"
   ]
  },
  {
   "cell_type": "code",
   "execution_count": null,
   "metadata": {
    "id": "8kTTxym9duNz"
   },
   "outputs": [],
   "source": [
    "# pass df through count for stats\n",
    "wc = count(df['spacy_tokens'])\n",
    "\n",
    "# sort and keep top 20 tokens for plotting\n",
    "wc_top20 = wc[wc['rank'] <= 20]\n",
    "\n",
    "# plot stats\n",
    "plt.figure(figsize=(7,7))\n",
    "squarify.plot(sizes=wc_top20['fraction_of_total'], label=wc_top20['word'], alpha=.8 )\n",
    "plt.axis('off')\n",
    "plt.show()"
   ]
  },
  {
   "cell_type": "code",
   "execution_count": null,
   "metadata": {
    "id": "yYGG_BXwDCUB"
   },
   "outputs": [],
   "source": [
    "wc_next20 = wc[(wc['rank'] > 20) & (wc['rank'] <= 40)]\n",
    "\n",
    "# plot stats\n",
    "plt.figure(figsize=(7,7))\n",
    "squarify.plot(sizes=wc_next20['fraction_of_total'], label=wc_next20['word'], alpha=.8 )\n",
    "plt.axis('off')\n",
    "plt.show()"
   ]
  },
  {
   "cell_type": "code",
   "execution_count": null,
   "metadata": {
    "id": "czg5HOjKDYet"
   },
   "outputs": [],
   "source": [
    "wc_3rd20 = wc[(wc['rank'] > 40) & (wc['rank'] <= 60)]\n",
    "\n",
    "# plot stats\n",
    "plt.figure(figsize=(7,7))\n",
    "squarify.plot(sizes=wc_3rd20['fraction_of_total'], label=wc_3rd20['word'], alpha=.8 )\n",
    "plt.axis('off')\n",
    "plt.show()"
   ]
  },
  {
   "cell_type": "markdown",
   "metadata": {
    "id": "FS-IuYRdGEr3",
    "toc-hr-collapsed": true
   },
   "source": [
    "## Challenge\n",
    "\n",
    "In the module project, you will apply tokenization to another set of review data and produce visualizations of those tokens!"
   ]
  },
  {
   "cell_type": "markdown",
   "metadata": {
    "id": "qy-JQ3VUGEr6",
    "toc-hr-collapsed": true
   },
   "source": [
    "# 3. Stop Words (Learn)\n",
    "<a id=\"p2\"></a>"
   ]
  },
  {
   "cell_type": "markdown",
   "metadata": {
    "id": "APfLF769GEr6"
   },
   "source": [
    "## Overview\n",
    "Section Agenda\n",
    "- What are they?\n",
    "- How do we get rid of them using Spacy?\n",
    "- Visualization\n",
    "- Libraries of Stop Words\n",
    "- Extending Stop Words\n",
    "- Statistical trimming\n",
    "\n",
    "If the visualizations above, you began to notice a pattern. Most of the words don't really add much to our understanding of product reviews. Words such as \"I\", \"and\", \"of\", etc. have almost no semantic meaning to us. We call these useless words \"stop words,\" because we should 'stop' ourselves from including them in the analysis.\n",
    "\n",
    "Most NLP libraries have built in lists of stop words that common english words: conjunctions, articles, adverbs, pronouns, and common verbs. The best practice, however, is to extend/customize these standard english stopwords for your problem's domain. If I am studying political science, I may want to exclude the word \"politics\" from my analysis; it's so common it does not add to my understanding."
   ]
  },
  {
   "cell_type": "markdown",
   "metadata": {
    "id": "7b5yWU9hGEr7",
    "toc-hr-collapsed": true
   },
   "source": [
    "## Follow Along\n",
    "\n",
    "### Default Stop Words\n",
    "Let's take a look at the standard stop words that came with our Spacy model:"
   ]
  },
  {
   "cell_type": "code",
   "execution_count": null,
   "metadata": {
    "collapsed": true,
    "id": "zeOqLNAhGEr7",
    "jupyter": {
     "outputs_hidden": true
    }
   },
   "outputs": [],
   "source": [
    "# Spacy's Default Stop Words\n",
    "print(nlp.Defaults.stop_words)\n",
    "print(len(nlp.Defaults.stop_words))"
   ]
  },
  {
   "cell_type": "markdown",
   "metadata": {
    "id": "iEKL1ydgonr9"
   },
   "source": [
    "Let's improve our `spacy` tokenizer by removing stop words and punctuation and lower-casing the tokens"
   ]
  },
  {
   "cell_type": "code",
   "execution_count": null,
   "metadata": {
    "id": "gYnQfN9TGEr9",
    "nbgrader": {
     "grade": false,
     "grade_id": "cell-6786f165c68a0aa6",
     "locked": false,
     "schema_version": 3,
     "solution": true,
     "task": false
    }
   },
   "outputs": [],
   "source": [
    "%%time\n",
    "# Use spacy to create a tokenizer that removes stop words\n",
    "\n",
    "tokens = []\n",
    "\n",
    "\"\"\" Update those tokens w/o stopwords\"\"\"\n",
    "for doc in nlp.pipe(df['reviews.text']):\n",
    "\n",
    "    doc_tokens = []\n",
    "\n",
    "    for token in doc:\n",
    "        if (not token.is_stop) & (not token.is_punct):\n",
    "            doc_tokens.append(token.text.lower())\n",
    "\n",
    "    tokens.append(doc_tokens)\n",
    "\n",
    "df['spacy_tokens_v2'] = tokens"
   ]
  },
  {
   "cell_type": "code",
   "execution_count": null,
   "metadata": {
    "id": "goa2wUjkqRyO"
   },
   "outputs": [],
   "source": [
    "df['spacy_tokens_v2']"
   ]
  },
  {
   "cell_type": "code",
   "execution_count": null,
   "metadata": {
    "id": "1jOR-1J9TG7K"
   },
   "outputs": [],
   "source": [
    "# plot the stats\n",
    "# pass tokens through count function\n",
    "wc = count(df['spacy_tokens_v2'])\n",
    "\n",
    "# sort and keep the top 20 words\n",
    "wc_top20 = wc[wc['rank'] <= 20]\n",
    "\n",
    "plt.figure(figsize=(8,8))\n",
    "squarify.plot(sizes=wc_top20['fraction_of_total'], label=wc_top20['word'], alpha=.8 )\n",
    "plt.axis('off')\n",
    "plt.show()"
   ]
  },
  {
   "cell_type": "markdown",
   "metadata": {
    "id": "wW7qoSu_GEsD"
   },
   "source": [
    "### Extending Stop Words"
   ]
  },
  {
   "cell_type": "code",
   "execution_count": null,
   "metadata": {
    "id": "MxLUxpRvGEsD"
   },
   "outputs": [],
   "source": [
    "print(type(nlp.Defaults.stop_words))\n",
    "print(len(nlp.Defaults.stop_words))"
   ]
  },
  {
   "cell_type": "code",
   "execution_count": null,
   "metadata": {
    "id": "7D6R_35SGEsF"
   },
   "outputs": [],
   "source": [
    "STOP_WORDS = nlp.Defaults.stop_words.union(['batteries','I', 'amazon', 'i', 'Amazon', 'it', \"it's\", 'it.', 'the', 'this',])\n",
    "print(len(STOP_WORDS))"
   ]
  },
  {
   "cell_type": "code",
   "execution_count": null,
   "metadata": {
    "id": "0JOoLRyUGEsJ",
    "nbgrader": {
     "grade": false,
     "grade_id": "cell-37cd0e460b63ff43",
     "locked": false,
     "schema_version": 3,
     "solution": true,
     "task": false
    }
   },
   "outputs": [],
   "source": [
    "# use spacy to create a tokenizer that removes stopwords using STOP_WORDS\n",
    "\n",
    "tokens = []\n",
    "for doc in nlp.pipe(df['reviews.text'], batch_size=500):\n",
    "\n",
    "    doc_tokens = []\n",
    "\n",
    "    for token in doc:\n",
    "        if (not token.is_punct) & (token.text.lower() not in STOP_WORDS):\n",
    "            doc_tokens.append(token.text.lower())\n",
    "\n",
    "    tokens.append(doc_tokens)\n",
    "\n",
    "df['spacy_tokens_v3'] = tokens\n",
    "\n",
    "wc = count(df['spacy_tokens_v3'])\n",
    "wc_top20 = wc[wc['rank'] <= 20]\n",
    "\n",
    "plt.figure(figsize=(8,8))\n",
    "squarify.plot(sizes=wc_top20['fraction_of_total'], label=wc_top20['word'], alpha=.8 )\n",
    "plt.axis('off')\n",
    "plt.show()"
   ]
  },
  {
   "cell_type": "markdown",
   "metadata": {
    "id": "55BKEXW6GEsQ"
   },
   "source": [
    "### Statistical Trimming\n",
    "\n",
    "So far, we have talked about stop word in relation to either broad english words or domain specific stop words. Another common approach to stop word removal is via statistical trimming. The basic idea: preserve the words that give the most about of variation in your data.\n",
    "\n",
    "Do you remember this graph?"
   ]
  },
  {
   "cell_type": "code",
   "execution_count": null,
   "metadata": {
    "id": "m7M5bXwUGEsQ"
   },
   "outputs": [],
   "source": [
    "sns.lineplot(x='rank', y='cumulative_fraction_of_total', data=wc);\n",
    "plt.grid()"
   ]
  },
  {
   "cell_type": "markdown",
   "metadata": {
    "id": "NSY5DHLKGEsS"
   },
   "source": [
    "This graph tells us that only a *handful* of words represented 80% of words in the overall corpus. We can interpret this in two ways:\n",
    "1. The words that appear most frequently may not provide any insight into the mean on the documents since they are so prevalent.\n",
    "2. Words that appear infrequency (at the end of the graph) also probably do not add much value, because the are mentioned so rarely.\n",
    "\n",
    "Let's take a look at the words at the bottom and the top and make a decision for ourselves:"
   ]
  },
  {
   "cell_type": "code",
   "execution_count": null,
   "metadata": {
    "id": "fksCTrc_T89-"
   },
   "outputs": [],
   "source": [
    "# Frequency of appears in documents\n",
    "sns.distplot(wc['appears_in_fraction_of_docs']);"
   ]
  },
  {
   "cell_type": "code",
   "execution_count": null,
   "metadata": {
    "id": "dJkyvXn0GEsX"
   },
   "outputs": [],
   "source": [
    "# Tree-Map w/ Words that appear in at least 2.5% of documents.\n",
    "wc = wc[wc['appears_in_fraction_of_docs'] >= 0.025]\n",
    "sns.distplot(wc['appears_in_fraction_of_docs']);"
   ]
  },
  {
   "cell_type": "markdown",
   "metadata": {
    "id": "riFOSWTuGEsa"
   },
   "source": [
    "## Challenge\n",
    "\n",
    "In the module project, you will apply stop word removal to a new corpus. You will focus on applying dictionary based stop word removal, but as a stretch goal, you should consider applying statistical stopword trimming."
   ]
  },
  {
   "cell_type": "markdown",
   "metadata": {
    "id": "xh6NpgGhGEsa",
    "toc-hr-collapsed": true
   },
   "source": [
    "# 4. Stemming & Lemmatization (Learn)\n",
    "<a id=\"p3\"></a>"
   ]
  },
  {
   "cell_type": "markdown",
   "metadata": {
    "id": "82BICah4GEsa",
    "toc-hr-collapsed": false
   },
   "source": [
    "## Overview\n",
    "\n",
    "You can see from our example above there is still some normalization to do to get a clean analysis. You notice that there many words (*i.e.* 'batteries', 'battery') which share the same root word. We can use either the process of stemming or lemmatization to trim our words down to the 'root' word.\n",
    "\n",
    "__Section Agenda__:\n",
    "\n",
    "- Which is which\n",
    "- why use one v. other\n",
    "- show side by side visualizations\n",
    "- how to do it in spacy & nltk\n",
    "- introduce PoS in here as well"
   ]
  },
  {
   "cell_type": "markdown",
   "metadata": {
    "id": "Unc5QrF4GEsb",
    "toc-hr-collapsed": true
   },
   "source": [
    "## Follow Along"
   ]
  },
  {
   "cell_type": "markdown",
   "metadata": {
    "id": "-2qObh4HGEsb",
    "toc-hr-collapsed": true
   },
   "source": [
    "### 4.1 Stemming\n",
    "\n",
    "> *a process for removing the commoner morphological and inflexional endings from words in English. Its main use is as part of a term normalisation process that is usually done when setting up Information Retrieval systems.* - [Martin Porter](https://tartarus.org/martin/PorterStemmer/)\n",
    "\n",
    "Some examples include:\n",
    "- 'ing'\n",
    "- 'ed'\n",
    "- 's'\n",
    "\n",
    "These rules are by no means comprehensive, but they are somewhere to start. Most stemming is done by well documented algorithms such as Porter, Snowball, and Dawson. Porter and its newer version Snowball are the most popular stemming algorithms today. For more information on various stemming algorithms check out [*\"A Comparative Study of Stemming Algorithms\"*](https://pdfs.semanticscholar.org/1c0c/0fa35d4ff8a2f925eb955e48d655494bd167.pdf)\n",
    "\n",
    "\n",
    "Spacy does not do stemming out of the box, but instead uses a different technique called *lemmatization* which we will discuss in the next section. Let's turn to an antique python package `nltk` for stemming."
   ]
  },
  {
   "cell_type": "code",
   "execution_count": null,
   "metadata": {
    "id": "o7z49DWNGEsb"
   },
   "outputs": [],
   "source": [
    "from nltk.stem import PorterStemmer\n",
    "\n",
    "ps = PorterStemmer()\n",
    "\n",
    "words = [\"is\", \"was\", \"be\", \"are\", \"messed\", \"mess\", \"feed\", \"mixed\", \"tied\", \"learned\", \"wanted\", \"tried\", \"finds\", \"learning\"]\n",
    "\n",
    "for word in words:\n",
    "    print(ps.stem(word))"
   ]
  },
  {
   "cell_type": "markdown",
   "metadata": {
    "id": "xkPTDh-dGEsd"
   },
   "source": [
    "### 4.1.1 Five Minute Challenge\n",
    "\n",
    "Apply the Porter stemming algorithm to the tokens in the `df` dataframe. Visualize the results in the tree graph we have been using for this session."
   ]
  },
  {
   "cell_type": "code",
   "execution_count": null,
   "metadata": {
    "id": "sCrtEa_uGEsd",
    "nbgrader": {
     "grade": false,
     "grade_id": "cell-5944a38ffd47803f",
     "locked": false,
     "schema_version": 3,
     "solution": true,
     "task": false
    }
   },
   "outputs": [],
   "source": [
    "from tqdm import tqdm\n",
    "tqdm.pandas()\n",
    "\n",
    "### BEGIN SOLUTION\n",
    "\n",
    "# Put in a new column `stems`\n",
    "def get_stems(text):\n",
    "\n",
    "    return # TODO\n",
    "\n",
    "df['stems'] = df['reviews.text'].progress_apply(get_stems)\n",
    "\n",
    "### END SOLUTION\n",
    "\n",
    "wc = count(df['stems'])\n",
    "wc_top20 = wc[wc['rank'] <= 20]\n",
    "\n",
    "plt.figure(figsize=(8,8))\n",
    "squarify.plot(sizes=wc_top20['fraction_of_total'], label=wc_top20['word'], alpha=.8 )\n",
    "plt.axis('off')\n",
    "plt.show()"
   ]
  },
  {
   "cell_type": "markdown",
   "metadata": {
    "id": "HU96W_PnGEsg",
    "toc-hr-collapsed": false
   },
   "source": [
    "### 4.2 Lemmatization\n",
    "\n",
    "You notice immediately that results are kinda funky - words just oddly chopped off. The Porter algorithm did exactly what it knows to do: chop off endings. Stemming works well in applications where humans don't have to worry about reading the results. Search engines and more broadly information retrieval algorithms use stemming. Why? Because it's fast.\n",
    "\n",
    "Lemmatization on the other hand is more methodical. The goal is to transform a word into its base form called a lemma. Plural nouns with funky spellings get transformed to singular tense. Verbs are all transformed to the transitive. Nice tidy data for a visualization. :) However, this tidy data can come at computational cost. Spacy does a pretty freaking good job of it though. Let's take a look:"
   ]
  },
  {
   "cell_type": "code",
   "execution_count": null,
   "metadata": {
    "id": "c1uvFqG9GEsg"
   },
   "outputs": [],
   "source": [
    "sent = \"men man women woman wolf wolves run runs running go going went gone\"\n",
    "doc = nlp(sent)\n",
    "\n",
    "# Lemma Attributes\n",
    "for token in doc:\n",
    "    print(token.text, \"\\t\", token.lemma_)"
   ]
  },
  {
   "cell_type": "code",
   "execution_count": null,
   "metadata": {
    "id": "HWHbmVl_ZW-F"
   },
   "outputs": [],
   "source": [
    "# spacy document object\n",
    "type(doc)"
   ]
  },
  {
   "cell_type": "code",
   "execution_count": null,
   "metadata": {
    "id": "w3-Y4bFRaL-J"
   },
   "outputs": [],
   "source": [
    "# spacy token object\n",
    "type(doc[0])"
   ]
  },
  {
   "cell_type": "markdown",
   "metadata": {
    "id": "gYBERl3pvt-a"
   },
   "source": [
    "Let's write a function to create tokens using the `spacy` lemmatizer"
   ]
  },
  {
   "cell_type": "code",
   "source": [
    "# Re-load nlp without parser/tagger to speed up pipeline\n",
    "nlp = spacy.load('en_core_web_md', disable=['parser', 'tagger'])"
   ],
   "metadata": {
    "id": "WLD0BY7UzIFp"
   },
   "execution_count": null,
   "outputs": []
  },
  {
   "cell_type": "code",
   "execution_count": null,
   "metadata": {
    "id": "sjt7J4RsGEsh",
    "nbgrader": {
     "grade": false,
     "grade_id": "cell-792ac177c78518bc",
     "locked": false,
     "schema_version": 3,
     "solution": true,
     "task": false
    }
   },
   "outputs": [],
   "source": [
    "# Wrap it all in a function\n",
    "def get_lemmas(text):\n",
    "\n",
    "    lemmas = []\n",
    "    doc = nlp(text)\n",
    "\n",
    "    ### BEGIN SOLUTION\n",
    "\n",
    "    ### END SOLUTION\n",
    "\n",
    "    return lemmas"
   ]
  },
  {
   "cell_type": "code",
   "execution_count": null,
   "metadata": {
    "id": "P0RL6T5OGEsi"
   },
   "outputs": [],
   "source": [
    "df['lemmas'] = df['reviews.text'].progress_apply(get_lemmas)"
   ]
  },
  {
   "cell_type": "code",
   "execution_count": null,
   "metadata": {
    "id": "V50IDI9_GEsj"
   },
   "outputs": [],
   "source": [
    "cols = ['lemmas', 'reviews.text']\n",
    "df[cols].head()"
   ]
  },
  {
   "cell_type": "code",
   "execution_count": null,
   "metadata": {
    "id": "D4FNmpcNGEsl"
   },
   "outputs": [],
   "source": [
    "wc = count(df['lemmas'])\n",
    "wc_top20 = wc[wc['rank'] <= 20]\n",
    "\n",
    "plt.figure(figsize=(8,8))\n",
    "squarify.plot(sizes=wc_top20['fraction_of_total'], label=wc_top20['word'], alpha=.8 )\n",
    "plt.axis('off')\n",
    "plt.show()"
   ]
  },
  {
   "cell_type": "code",
   "source": [
    "# To make this comparison more interesting, let's compare: All Amazon Reviews, Fire HD 8 only, and Kindle only\n",
    "df['FireHD_8'] = df['name'].str.contains('fire hd 8', case=False)\n",
    "df['Kindle'] = df['name'].str.contains('kindle', case=False)\n",
    "\n",
    "# Use the Function for all reviews, Fire HD 8 only, and Kindle only\n",
    "wc = count(df['lemmas'])\n",
    "wc_fire_hd_8 = count(df[df['FireHD_8'] == True]['lemmas'])\n",
    "wc_kindle = count(df[df['Kindle'] == True]['lemmas'])\n",
    "print(wc.shape, wc_fire_hd_8.shape, wc_kindle.shape)\n",
    "\n",
    "# Get top 20 word occurences for each set of data\n",
    "wc_top20 = wc[wc['rank'] <= 20]\n",
    "wc_fire_top20 = wc_fire_hd_8[wc_fire_hd_8['rank'] <= 20]\n",
    "wc_kindle_top20 = wc_kindle[wc_kindle['rank'] <= 20]\n",
    "\n",
    "fig, axes = plt.subplots(1, 3, figsize=(20, 8))\n",
    "\n",
    "axes[0].set_title('All Amazon Reviews')\n",
    "squarify.plot(sizes=wc_top20['fraction_of_total'], label=wc_top20['word'], alpha=.8, ax=axes[0])\n",
    "axes[0].axis('off')\n",
    "\n",
    "axes[1].set_title('Fire HD 8 Tablet')\n",
    "squarify.plot(sizes=wc_fire_top20['fraction_of_total'], label=wc_fire_top20['word'], alpha=.8, ax=axes[1])\n",
    "axes[1].axis('off')\n",
    "\n",
    "axes[2].set_title('Kindle')\n",
    "squarify.plot(sizes=wc_kindle_top20['fraction_of_total'], label=wc_kindle_top20['word'], alpha=.8, ax=axes[2])\n",
    "axes[2].axis('off')\n",
    "plt.show()"
   ],
   "metadata": {
    "id": "AFBRsI2Ty7TH"
   },
   "execution_count": null,
   "outputs": []
  },
  {
   "cell_type": "markdown",
   "metadata": {
    "id": "G_0hfUbGGEsn"
   },
   "source": [
    "## Challenge\n",
    "\n",
    "You should know how to apply lemmatization with Spacy to a corpus of text."
   ]
  },
  {
   "cell_type": "markdown",
   "metadata": {
    "id": "QfQj6OUOTWBH"
   },
   "source": [
    "## (Bonus Material) ScatterText\n",
    "\n",
    "To run this section, go to your terminal and execute:\n",
    "\n",
    "- pip install scattertext"
   ]
  },
  {
   "cell_type": "markdown",
   "metadata": {
    "id": "V4H4uhweWJEp"
   },
   "source": [
    "## Challenge\n",
    "\n",
    "You should know how to apply lemmatization with Spacy to a corpus of text."
   ]
  },
  {
   "cell_type": "markdown",
   "metadata": {
    "id": "wfK3QkOETWBI"
   },
   "source": [
    "## Scattertext Kindle vs. FireHD Comparison\n",
    "\n",
    "To run this section, go to your terminal and execute:\n",
    "\n",
    "- pip install scattertext"
   ]
  },
  {
   "cell_type": "code",
   "source": [
    "!pip install scattertext"
   ],
   "metadata": {
    "id": "NPHsr79_g7Bm"
   },
   "execution_count": null,
   "outputs": []
  },
  {
   "cell_type": "code",
   "execution_count": null,
   "metadata": {
    "id": "MBUnGZ5xTWBI"
   },
   "outputs": [],
   "source": [
    "# Create a copy and add column with product tags\n",
    "subset_df = df.copy()\n",
    "subset_df.loc[subset_df['name'].str.contains('kindle', case=False), 'product'] = 'Kindle'\n",
    "subset_df.loc[subset_df['name'].str.contains('fire hd 8', case=False), 'product'] = 'Fire HD 8'\n",
    "\n",
    "# Drop Review that aren't Kindle/Fire HD 8\n",
    "subset_df.dropna(subset=['product'], inplace=True)\n",
    "\n",
    "# Confirm shape and distribution of reviews\n",
    "print(subset_df.shape)\n",
    "subset_df['product'].value_counts()"
   ]
  },
  {
   "cell_type": "code",
   "execution_count": null,
   "metadata": {
    "id": "ILF-3SWtTWBI"
   },
   "outputs": [],
   "source": [
    "import spacy\n",
    "import scattertext as st\n",
    "\n",
    "nlp = spacy.load(\"en_core_web_md\")\n",
    "\n",
    "corpus = st.CorpusFromPandas(subset_df,\n",
    "                             category_col='product',\n",
    "                             text_col='reviews.text',\n",
    "                             nlp=nlp).build()\n",
    "\n",
    "html = st.produce_scattertext_explorer(\n",
    "    corpus,\n",
    "    category='Kindle',\n",
    "    category_name='Kindle',\n",
    "    not_category_name='Fire HD 8',\n",
    "    width_in_pixels=1000,\n",
    "    metadata=subset_df['reviews.rating'])\n",
    "\n",
    "open('./kindle_vs_firehd8.html', 'w').write(html)"
   ]
  },
  {
   "cell_type": "markdown",
   "metadata": {
    "id": "TV0MV3qqGEso"
   },
   "source": [
    "# Review\n",
    "\n",
    "In this module project, you've seen us apply Natural Language Processing techniques (tokenization, stopword removal, and lemmatization) to a corpus of Amazon text reviews. We analyzed those reviews using these techniques and discovered that Amazon customers are generally satisfied with the battery life of Amazon products and generally appear satisfied.\n",
    "\n",
    "You will apply similar techniques to today's [module project assignment](https://colab.research.google.com/drive/1tAShxk2KAL0iMp5kC7JGk7UujOEuIuSI?usp=sharing) to analyze coffee shop reviews from yelp. Remember that the techniques of processing the text are just the beginning. There are many ways to slice and dice the data."
   ]
  },
  {
   "cell_type": "markdown",
   "metadata": {
    "id": "sf2wyGutGEso"
   },
   "source": [
    "# Sources\n",
    "\n",
    "* Spacy 101 - https://course.spacy.io\n",
    "* NLTK Book - https://www.nltk.org/book/\n",
    "* An Introduction to Information Retrieval - https://nlp.stanford.edu/IR-book/pdf/irbookonlinereading.pdf"
   ]
  },
  {
   "cell_type": "markdown",
   "metadata": {
    "id": "TIXFuZCEGEso",
    "toc-hr-collapsed": true
   },
   "source": [
    "## Advanced Resources & Techniques\n",
    "- Named Entity Recognition (NER)\n",
    "- Dependency Trees\n",
    "- Generators\n",
    "- Major libraries (NLTK, Spacy, Gensim)\n"
   ]
  }
 ],
 "metadata": {
  "celltoolbar": "Create Assignment",
  "colab": {
   "provenance": []
  },
  "kernelspec": {
   "display_name": "Python 3",
   "language": "python",
   "name": "python3"
  },
  "language_info": {
   "codemirror_mode": {
    "name": "ipython",
    "version": 3
   },
   "file_extension": ".py",
   "mimetype": "text/x-python",
   "name": "python",
   "nbconvert_exporter": "python",
   "pygments_lexer": "ipython3",
   "version": "3.8.5"
  },
  "toc-autonumbering": false,
  "toc-showcode": false,
  "toc-showmarkdowntxt": false
 },
 "nbformat": 4,
 "nbformat_minor": 0
}
